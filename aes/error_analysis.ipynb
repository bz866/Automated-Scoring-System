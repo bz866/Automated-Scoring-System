{
 "cells": [
  {
   "cell_type": "code",
   "execution_count": 2,
   "metadata": {
    "collapsed": false
   },
   "outputs": [],
   "source": [
    "from keras.models import Sequential\n",
    "from keras.layers import Dense\n",
    "from keras import models\n",
    "import matplotlib.pyplot as plt\n",
    "import numpy as np\n",
    "import pickle\n",
    "from keras.models import model_from_json"
   ]
  },
  {
   "cell_type": "code",
   "execution_count": 23,
   "metadata": {
    "collapsed": false
   },
   "outputs": [],
   "source": [
    "from hier_networks import build_hrcnn_model"
   ]
  },
  {
   "cell_type": "code",
   "execution_count": 3,
   "metadata": {
    "collapsed": false
   },
   "outputs": [],
   "source": [
    "with open(\"/scratch/yz3464/NLP/data/history_cnn_1.pkl\", \"rb\") as input_file:\n",
    "    history = pickle.load(input_file)"
   ]
  },
  {
   "cell_type": "code",
   "execution_count": 6,
   "metadata": {
    "collapsed": false
   },
   "outputs": [],
   "source": [
    "model = models.load_model('/scratch/yz3464/NLP/checkpoints/cnn1.h5')"
   ]
  },
  {
   "cell_type": "code",
   "execution_count": null,
   "metadata": {
    "collapsed": true
   },
   "outputs": [],
   "source": []
  },
  {
   "cell_type": "code",
   "execution_count": 30,
   "metadata": {
    "collapsed": true
   },
   "outputs": [],
   "source": [
    "class Namespace:\n",
    "    def __init__(self, **kwargs):\n",
    "        self.__dict__.update(kwargs)"
   ]
  },
  {
   "cell_type": "code",
   "execution_count": 31,
   "metadata": {
    "collapsed": true
   },
   "outputs": [],
   "source": [
    "opt = Namespace(batch_size=10, char_embedd_dim=30, char_nbfilters=20, checkpoint_path='../checkpoint', dev='../data/dev.tsv', dropout=0.5, embedding='glove', embedding_dict='../data/glove.6B.50d.txt', embedding_dim=50, filter1_len=5, filter2_len=3, fine_tune=True, init_bias=False, l2_value=None, learning_rate=0.001, lstm_units=100, mode='mot', nbfilters=100, num_epochs=2, oov='embedding', optimizer='rmsprop', prompt_id=1, rnn_type='LSTM', test='../data/dev.tsv', train='../data/train.tsv', train_flag=True, use_char=False, vocab_size=4000)"
   ]
  },
  {
   "cell_type": "code",
   "execution_count": 35,
   "metadata": {
    "collapsed": false
   },
   "outputs": [
    {
     "name": "stdout",
     "output_type": "stream",
     "text": [
      "Build model - INFO - Model parameters: max_sentnum = 71, max_sentlen = 50, embedding dim = 50, nbfilters = 100, filter1_len = 5, drop rate = 0.5\n",
      "Build model - INFO - Use mean-over-time pooling on sentence\n"
     ]
    },
    {
     "name": "stderr",
     "output_type": "stream",
     "text": [
      "hier_networks.py:103: UserWarning: Update your `Conv1D` call to the Keras 2 API: `Conv1D(100, 5, padding=\"valid\")`\n",
      "  zcnn = TimeDistributed(Convolution1D(opts.nbfilters, opts.filter1_len, border_mode='valid'), name='zcnn')(resh_W)\n"
     ]
    },
    {
     "name": "stdout",
     "output_type": "stream",
     "text": [
      "Build model - INFO - Use mean-over-time pooling on text\n",
      "_________________________________________________________________\n",
      "Layer (type)                 Output Shape              Param #   \n",
      "=================================================================\n",
      "word_input (InputLayer)      (None, 3550)              0         \n",
      "_________________________________________________________________\n",
      "x (Embedding)                (None, 3550, 50)          200000    \n",
      "_________________________________________________________________\n",
      "x_maskedout (ZeroMaskedEntri (None, 3550, 50)          0         \n",
      "_________________________________________________________________\n",
      "drop_x (Dropout)             (None, 3550, 50)          0         \n",
      "_________________________________________________________________\n",
      "resh_W (Reshape)             (None, 71, 50, 50)        0         \n",
      "_________________________________________________________________\n",
      "zcnn (TimeDistributed)       (None, 71, 46, 100)       25100     \n",
      "_________________________________________________________________\n",
      "avg_zcnn (TimeDistributed)   (None, 71, 100)           0         \n",
      "_________________________________________________________________\n",
      "hz_lstm (LSTM)               (None, 71, 100)           80400     \n",
      "_________________________________________________________________\n",
      "avg_hz_lstm (GlobalAveragePo (None, 100)               0         \n",
      "_________________________________________________________________\n",
      "output (Dense)               (None, 1)                 101       \n",
      "=================================================================\n",
      "Total params: 305,601.0\n",
      "Trainable params: 305,601.0\n",
      "Non-trainable params: 0.0\n",
      "_________________________________________________________________\n",
      "Build model - INFO - Model compiled in 0.0180 s\n"
     ]
    },
    {
     "name": "stderr",
     "output_type": "stream",
     "text": [
      "hier_networks.py:143: UserWarning: Update your `Dense` call to the Keras 2 API: `Dense(units=1, activation=\"sigmoid\", name=\"output\")`\n",
      "  y = Dense(output_dim=1, activation='sigmoid', name='output')(avg_hz_lstm)\n",
      "hier_networks.py:148: UserWarning: Update your `Model` call to the Keras 2 API: `Model(outputs=Tensor(\"ou..., inputs=Tensor(\"wo...)`\n",
      "  model = Model(input=word_input, output=y)\n"
     ]
    }
   ],
   "source": [
    "model1 = build_hrcnn_model(opt, 4000, 10, 71, 50, 50, 50, None, True, init_mean_value)"
   ]
  },
  {
   "cell_type": "code",
   "execution_count": 52,
   "metadata": {
    "collapsed": true
   },
   "outputs": [],
   "source": [
    "model1.load_weights('/scratch/yz3464/NLP/checkpoints/hrcnn_mot_w.h5',by_name=True)"
   ]
  },
  {
   "cell_type": "code",
   "execution_count": 7,
   "metadata": {
    "collapsed": true
   },
   "outputs": [],
   "source": [
    " from data_prepare import prepare_sentence_data"
   ]
  },
  {
   "cell_type": "code",
   "execution_count": 8,
   "metadata": {
    "collapsed": false
   },
   "outputs": [],
   "source": [
    "datapaths = ['/scratch/yz3464/NLP/data/data.tsv','/scratch/yz3464/NLP/data/dev.tsv','/scratch/yz3464/NLP/data/dev.tsv']\n",
    "embedding_path = '/scratch/yz3464/NLP/data/glove.6B.50d.txt'"
   ]
  },
  {
   "cell_type": "code",
   "execution_count": 9,
   "metadata": {
    "collapsed": false
   },
   "outputs": [
    {
     "name": "stdout",
     "output_type": "stream",
     "text": [
      "Loading data... - INFO - Prompt id is 1\n",
      "Loading data... - INFO - Creating vocabulary from: /scratch/yz3464/NLP/data/data.tsv\n",
      "Loading data... - INFO -   724840 total words, 16271 unique words\n",
      "Loading data... - INFO -   Vocab size: 4000\n",
      "Loading data... - INFO - Reading dataset from: /scratch/yz3464/NLP/data/data.tsv\n",
      "Loading data... - INFO - Reading dataset from: /scratch/yz3464/NLP/data/dev.tsv\n",
      "Loading data... - INFO - Reading dataset from: /scratch/yz3464/NLP/data/dev.tsv\n",
      "Loading data... - INFO - Training data max sentence num = 71, max sentence length = 50\n",
      "Loading data... - INFO - Dev data max sentence num = -1, max sentence length = -1\n",
      "Loading data... - INFO - Test data max sentence num = -1, max sentence length = -1\n",
      "Loading data... - INFO - Overall max sentence num = 71, max sentence length = 50\n",
      "Prepare data ... - INFO - Statistics:\n",
      "Prepare data ... - INFO -   train X shape: (1783, 71, 50)\n",
      "Prepare data ... - INFO -   dev X shape:   (0, 71, 50)\n",
      "Prepare data ... - INFO -   test X shape:  (0, 71, 50)\n",
      "Prepare data ... - INFO -   train Y shape: (1783, 1)\n",
      "Prepare data ... - INFO -   dev Y shape:   (0, 1)\n",
      "Prepare data ... - INFO -   test Y shape:  (0, 1)\n",
      "Prepare data ... - INFO -   train_y mean: [ 8.52832317], stdev: [ 1.53813362], train_y mean after scaling: [ 0.65283233]\n",
      "Prepare data ... - INFO - Loading GloVe ...\n"
     ]
    },
    {
     "name": "stderr",
     "output_type": "stream",
     "text": [
      "data_prepare.py:32: RuntimeWarning: Mean of empty slice.\n",
      "  dev_mean = y_dev.mean(axis=0)\n",
      "/share/apps/numpy/1.13.1/intel/lib/python2.7/site-packages/numpy-1.13.1-py2.7-linux-x86_64.egg/numpy/core/_methods.py:135: RuntimeWarning: Degrees of freedom <= 0 for slice\n",
      "  keepdims=keepdims)\n",
      "data_prepare.py:34: RuntimeWarning: Mean of empty slice.\n",
      "  test_mean = y_test.mean(axis=0)\n"
     ]
    },
    {
     "name": "stdout",
     "output_type": "stream",
     "text": [
      "Prepare data ... - INFO - OOV number =343, OOV ratio = 0.085771\n"
     ]
    }
   ],
   "source": [
    "(X_t, Y_t, mask_train), (X_dev, Y_dev, mask_dev), (X_test, Y_test, mask_test), vocab, vocab_size, embed_table, overal_maxlen, overal_maxnum, init_mean_value = prepare_sentence_data(datapaths, \\\n",
    " embedding_path, 'glove', 50, 1, 4000, tokenize_text=True, \\\n",
    " to_lower=True, sort_by_len=False, vocab_path=None, score_index=6)"
   ]
  },
  {
   "cell_type": "code",
   "execution_count": 10,
   "metadata": {
    "collapsed": false
   },
   "outputs": [],
   "source": [
    "nn1 = int(np.ceil(len(X_t)*0.7))\n",
    "nn2 = int(np.ceil(len(X_t)*0.9))\n",
    " \n",
    "Y_train = Y_t[0:nn1]\n",
    "Y_dev = Y_t[nn1:nn2]\n",
    "Y_test = Y_t[nn2:]\n",
    " \n",
    "X_train = X_t.reshape((X_t.shape[0], X_t.shape[1]*X_t.shape[2]))[0:nn1]\n",
    "X_dev = X_t.reshape((X_t.shape[0], X_t.shape[1]*X_t.shape[2]))[nn1:nn2]\n",
    "X_test = X_t.reshape((X_t.shape[0], X_t.shape[1]*X_t.shape[2]))[nn2:]"
   ]
  },
  {
   "cell_type": "code",
   "execution_count": 11,
   "metadata": {
    "collapsed": false
   },
   "outputs": [],
   "source": [
    "pred = model.predict(X_test)"
   ]
  },
  {
   "cell_type": "code",
   "execution_count": 14,
   "metadata": {
    "collapsed": false
   },
   "outputs": [
    {
     "data": {
      "text/plain": [
       "(array([ 0.59979403], dtype=float32), array([ 0.60000002], dtype=float32))"
      ]
     },
     "execution_count": 14,
     "metadata": {},
     "output_type": "execute_result"
    }
   ],
   "source": [
    "pred[175], Y_test[175]"
   ]
  },
  {
   "cell_type": "code",
   "execution_count": 12,
   "metadata": {
    "collapsed": false
   },
   "outputs": [
    {
     "data": {
      "text/plain": [
       "175"
      ]
     },
     "execution_count": 12,
     "metadata": {},
     "output_type": "execute_result"
    }
   ],
   "source": [
    "np.abs(pred - Y_test).argmin()"
   ]
  },
  {
   "cell_type": "code",
   "execution_count": 15,
   "metadata": {
    "collapsed": false
   },
   "outputs": [
    {
     "data": {
      "text/plain": [
       "(178, 3550)"
      ]
     },
     "execution_count": 15,
     "metadata": {},
     "output_type": "execute_result"
    }
   ],
   "source": [
    "X_test.shape"
   ]
  },
  {
   "cell_type": "code",
   "execution_count": 16,
   "metadata": {
    "collapsed": false
   },
   "outputs": [
    {
     "data": {
      "text/plain": [
       "array([108, 809,   4, ...,   0,   0,   0], dtype=int32)"
      ]
     },
     "execution_count": 16,
     "metadata": {},
     "output_type": "execute_result"
    }
   ],
   "source": [
    "X_test[176]"
   ]
  },
  {
   "cell_type": "code",
   "execution_count": 17,
   "metadata": {
    "collapsed": false
   },
   "outputs": [],
   "source": [
    "text_list = []\n",
    "with open('/scratch/yz3464/NLP/data/data.tsv',mode='r') as tst:\n",
    "    tst.next()\n",
    "    for line in tst:\n",
    "        tokens = line.strip().split('\\t')\n",
    "        if int(tokens[1]) == 1:\n",
    "            text_list.append(line)\n",
    "    "
   ]
  },
  {
   "cell_type": "code",
   "execution_count": 18,
   "metadata": {
    "collapsed": false
   },
   "outputs": [
    {
     "data": {
      "text/plain": [
       "1783"
      ]
     },
     "execution_count": 18,
     "metadata": {},
     "output_type": "execute_result"
    }
   ],
   "source": [
    "len(text_list)"
   ]
  },
  {
   "cell_type": "code",
   "execution_count": 19,
   "metadata": {
    "collapsed": true
   },
   "outputs": [],
   "source": [
    "test_text = text_list[nn2:]"
   ]
  },
  {
   "cell_type": "code",
   "execution_count": 20,
   "metadata": {
    "collapsed": false
   },
   "outputs": [
    {
     "data": {
      "text/plain": [
       "1783"
      ]
     },
     "execution_count": 20,
     "metadata": {},
     "output_type": "execute_result"
    }
   ],
   "source": [
    "len(X_t)"
   ]
  },
  {
   "cell_type": "code",
   "execution_count": 21,
   "metadata": {
    "collapsed": false
   },
   "outputs": [
    {
     "data": {
      "text/plain": [
       "\"1785\\t1\\tMy opinion is that people should have computers in their homes. Computers should be for important things like searching for jobs and other things. People can do their work in the computer. To teach your childrens how to use a computer or let their children go on the internet to they can search kids stuff. People shouldn't all their time on the computers and spend less time with their families and friends. I think people should spend more time with their families and their friends then spending it on the computer. But a lot of people use computers almost everyday. But a lot of people use computers almost everyday. Probably your family are worried about people spending their time everyday in the computer. They their friends how to type in the computer and teach them some stuff about the history. Do you think that people should alot more time with their families and be happy about it the they are spending time with their families. I think people shouldn't use the computer when they have a vistor over their house they don't their vistor think you are attracted to the computer. They should give people the ability to learn about faraway places and to learn things about the internet. But not everyone agree that people shouldn't use computers because people can get attracted to it and people don't want that. To happen. And families are concerned about that a lot of people use this can of stuff. Other people think that this is a great idea to use a lot of computer and spend more on it then their families. So do you think that people should spend more time on their families and friends then picking atention to the computers.\\t4\\t4\\t\\t8\\t\\t\\t\\t\\t\\t\\t\\t\\t\\t\\t\\t\\t\\t\\t\\t\\t\\t\\t\\t\\t\\r\\n\""
      ]
     },
     "execution_count": 21,
     "metadata": {},
     "output_type": "execute_result"
    }
   ],
   "source": [
    "test_text[175]"
   ]
  },
  {
   "cell_type": "code",
   "execution_count": null,
   "metadata": {
    "collapsed": true
   },
   "outputs": [],
   "source": []
  },
  {
   "cell_type": "code",
   "execution_count": 48,
   "metadata": {
    "collapsed": false
   },
   "outputs": [],
   "source": [
    "pred_mot = model1.predict(X_test)"
   ]
  },
  {
   "cell_type": "code",
   "execution_count": 53,
   "metadata": {
    "collapsed": false
   },
   "outputs": [
    {
     "data": {
      "text/plain": [
       "40"
      ]
     },
     "execution_count": 53,
     "metadata": {},
     "output_type": "execute_result"
    }
   ],
   "source": [
    "np.abs(pred_mot - Y_test)[0:175].argmin()"
   ]
  },
  {
   "cell_type": "code",
   "execution_count": 55,
   "metadata": {
    "collapsed": false
   },
   "outputs": [
    {
     "data": {
      "text/plain": [
       "'1650\\t1\\t\"Dear local newspaper, @CAPS1 would a person do with out a computer? Well I think nothing because @CAPS1 if you are like me that have their family far away in another country well whith a computer you can see them throught a camara and talk to them just like if you where there. Computers just don\\'t take your time they help you understand the menning of a family.These are many reasons why I think computers should be very important. My first reason is that they give you information about a place that you might be interested to see or know their culture. There are many people that like to explore and see new places, but they can\\'t because maybe they just don\\'t have time or they might have to much work. There is no exception for someone to not put their oportunities out, just because they don\\'t have the time or a computer. My second reason is work. People like you that work in a office need information about a place that a disaster happened. You might need somenthing to see how it happen and @CAPS1 was the condition it happend. People that work in a important place need a computer because they are saving their work so they don\\'t lose it and get fired. My third and last reason is to be organized. Being organized is very important it helps you keep a job or having everything on hand. Well computers are not just a pass of time it also makes your life easier. Many people say that they don\\'t @CAPS1 to have to much papers; with a computer you can have all those paper in just one page that is saved by you, and only you can see it. As you @MONTH1 see many people that have computers use it in a productive way. It\\'s not just a pass of time like people say it is. It also helps you do many stuff for your own future: not just to play around with some new friends. Well as you @MONTH1 see this are my three main reasons for keeping a computer in your house and using it in a good and productive way. \"\\t4\\t4\\t\\t8\\t\\t\\t\\t\\t\\t\\t\\t\\t\\t\\t\\t\\t\\t\\t\\t\\t\\t\\t\\t\\t\\r\\n'"
      ]
     },
     "execution_count": 55,
     "metadata": {},
     "output_type": "execute_result"
    }
   ],
   "source": [
    "test_text[40]"
   ]
  },
  {
   "cell_type": "code",
   "execution_count": 56,
   "metadata": {
    "collapsed": false
   },
   "outputs": [
    {
     "data": {
      "text/plain": [
       "(array([ 0.59877658], dtype=float32), array([ 0.60000002], dtype=float32))"
      ]
     },
     "execution_count": 56,
     "metadata": {},
     "output_type": "execute_result"
    }
   ],
   "source": [
    "pred_mot[40], Y_test[40] #(array([ 0.72410029], dtype=float32), array([ 1.], dtype=float32))"
   ]
  },
  {
   "cell_type": "code",
   "execution_count": null,
   "metadata": {
    "collapsed": true
   },
   "outputs": [],
   "source": []
  }
 ],
 "metadata": {
  "kernelspec": {
   "display_name": "Python 2",
   "language": "python",
   "name": "python2"
  },
  "language_info": {
   "codemirror_mode": {
    "name": "ipython",
    "version": 2
   },
   "file_extension": ".py",
   "mimetype": "text/x-python",
   "name": "python",
   "nbconvert_exporter": "python",
   "pygments_lexer": "ipython2",
   "version": "2.7.12"
  }
 },
 "nbformat": 4,
 "nbformat_minor": 2
}
