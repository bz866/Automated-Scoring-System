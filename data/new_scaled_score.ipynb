{
 "cells": [
  {
   "cell_type": "code",
   "execution_count": 45,
   "metadata": {},
   "outputs": [],
   "source": [
    "import pandas as pd\n",
    "import pickle"
   ]
  },
  {
   "cell_type": "code",
   "execution_count": 50,
   "metadata": {},
   "outputs": [],
   "source": [
    "with open('training_final_train_val.pk', 'rb') as handle:\n",
    "    train_val = pickle.load(handle)\n",
    "with open('training_final_test.pk', 'rb') as handle:\n",
    "    test = pickle.load(handle)"
   ]
  },
  {
   "cell_type": "code",
   "execution_count": 52,
   "metadata": {},
   "outputs": [],
   "source": [
    "del train_val['f_vec']\n",
    "del test['f_vec']"
   ]
  },
  {
   "cell_type": "code",
   "execution_count": 53,
   "metadata": {},
   "outputs": [],
   "source": [
    "scale_map = {1:1, 2:1.25, 3:10/3, 4:10/3, 5:2.5, 6:2.5, 7:1/3, 8: 1/6}\n",
    "bias_map = {1:-2,  2:-2, 3:0, 4:0, 5:0, 6:0, 7:0, 8:0}\n",
    "mapval = [scale_map[i] for i in list(train_val.essay_set)]\n",
    "bias = [bias_map[i] for i in list(train_val.essay_set)]\n",
    "score = list(train_val.final_score)\n",
    "scaled = [(a+c)*b for a,b,c in zip(score,mapval,bias)]\n",
    "train_val['scaled_score2'] = scaled\n",
    "\n",
    "scale_map = {1:1, 2:1.25, 3:10/3, 4:10/3, 5:2.5, 6:2.5, 7:1/3, 8: 1/6}\n",
    "bias_map = {1:-2,  2:-2, 3:0, 4:0, 5:0, 6:0, 7:0, 8:0}\n",
    "mapval = [scale_map[i] for i in list(test.essay_set)]\n",
    "bias = [bias_map[i] for i in list(test.essay_set)]\n",
    "score = list(test.final_score)\n",
    "scaled = [(a+c)*b for a,b,c in zip(score,mapval,bias)]\n",
    "test['scaled_score2'] = scaled\n",
    "\n"
   ]
  },
  {
   "cell_type": "code",
   "execution_count": 55,
   "metadata": {},
   "outputs": [],
   "source": [
    "train_val.to_csv('training_final_train_val.csv', index=False)\n",
    "test.to_csv('training_final_test.csv', index=False)"
   ]
  },
  {
   "cell_type": "code",
   "execution_count": null,
   "metadata": {},
   "outputs": [],
   "source": []
  }
 ],
 "metadata": {
  "kernelspec": {
   "display_name": "Python 3",
   "language": "python",
   "name": "python3"
  },
  "language_info": {
   "codemirror_mode": {
    "name": "ipython",
    "version": 3
   },
   "file_extension": ".py",
   "mimetype": "text/x-python",
   "name": "python",
   "nbconvert_exporter": "python",
   "pygments_lexer": "ipython3",
   "version": "3.6.3"
  }
 },
 "nbformat": 4,
 "nbformat_minor": 2
}
